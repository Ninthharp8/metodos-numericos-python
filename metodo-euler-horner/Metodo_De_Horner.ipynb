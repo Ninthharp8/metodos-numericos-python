{
  "cells": [
    {
      "cell_type": "markdown",
      "metadata": {
        "id": "HvM7HrhP37Ng"
      },
      "source": [
        "# Método de Horner\n"
      ]
    },
    {
      "cell_type": "markdown",
      "metadata": {
        "id": "FPGPj_DZ6jCx"
      },
      "source": [
        "###  Objetivo\n",
        "\n",
        "Evaluar polinomios de forma eficiente reduciendo el número de multiplicaciones, usando una estructura recursiva llamada **esquema de Horner**."
      ]
    },
    {
      "cell_type": "markdown",
      "metadata": {
        "id": "QR6QsPql6qEa"
      },
      "source": [
        "###  Fundamento Teórico"
      ]
    },
    {
      "cell_type": "markdown",
      "metadata": {
        "id": "FPMzLP-a37Nq"
      },
      "source": [
        "\n",
        "Si tenemos Un polinomio de grado :\n",
        "\n",
        "$$P(x)=a_nX^n + a_{n-1}X^{n-1} + a_{n-2}X^{n-2}+...+a_1X+a_0$$\n",
        "\n",
        "Ejemplo:\n",
        "\n",
        "$$P(x)= a_4X^4+a_3X^3+a_2X^2+a_1X$$\n",
        "\n"
      ]
    },
    {
      "cell_type": "markdown",
      "metadata": {
        "id": "o8ThC_ny37Nr"
      },
      "source": [
        "Para resolverlo tendriamos que aventurarnos a procedimientos como :\n",
        "\n",
        "$$P(x)=a_4X^4+a_3X^3+a_2X^2+a_1X+a_0$$\n",
        "$$P(x)=X(a_4X^3+a_3X^2+a_2X+a_1+a_0)$$\n",
        "$$P(x)=X(X(a_4X^2+a_3X+a_2)+a_1+a_0)$$\n",
        "$$.$$\n",
        "$$.$$\n",
        "\n",
        "y nunca acabariamos pues esto reduce la complejidad computacional de $ O(n^2)$  a $ O(n)$.\n"
      ]
    },
    {
      "cell_type": "markdown",
      "metadata": {
        "id": "jwR7Faht7BB9"
      },
      "source": [
        "### Procedimiento\n",
        "1. Se reorganiza el polinomio en la forma de Horner.\n",
        "2. Se evalúa recursivamente desde el coeficiente de mayor grado hacia el término independiente."
      ]
    },
    {
      "cell_type": "markdown",
      "metadata": {
        "id": "q0iYlQ6E37Ns"
      },
      "source": [
        " Definiendo una nueva secuencia de constantes :\n",
        "$$ b_{n} := a_{n}$$\n",
        "$$ b_{n-1} :=a_{n-1}+b_{n}X_0$$\n",
        "$$\\dots$$\n",
        "$$b_{0} := a_{0} + b_{1}X_{0}$$"
      ]
    },
    {
      "cell_type": "markdown",
      "metadata": {
        "id": "3pvyyXLC37Nt"
      },
      "source": [
        "Entonces el valor de $ b_0$ seria el valor de $P(x_0)$"
      ]
    },
    {
      "cell_type": "markdown",
      "metadata": {
        "id": "wRL3xsz737Nu"
      },
      "source": [
        "#### *Para nuestro ejercicio, tenemos*:"
      ]
    },
    {
      "cell_type": "markdown",
      "metadata": {
        "id": "FzhyNkZ137Nv"
      },
      "source": [
        "$$P(x)=5x^4+8x^3+4x^2+6x+3$$"
      ]
    },
    {
      "cell_type": "markdown",
      "metadata": {
        "id": "Pdi9L2mI37Nv"
      },
      "source": [
        "Horner nos dice que podemos evaluar el polinomio de grado-n calculando las sumas : $$n$$\n",
        "\n",
        "y las multiplicaciones : $$ \\frac{n^2+n}{2}$$"
      ]
    },
    {
      "cell_type": "markdown",
      "metadata": {
        "id": "MnANtDS337Nw"
      },
      "source": [
        "Y aplicando estas formulas tendrimos un total de las sumas n=4 y las multiplicaciones $$ \\frac{n^2+n}{2} =  \\frac{4^2+4}{2} = 10$$"
      ]
    },
    {
      "cell_type": "markdown",
      "metadata": {
        "id": "jQcPFqkq37Nx"
      },
      "source": [
        "Aplicando Horner para n=4, x=7 y a_n =[5,8,4,6,3] nos quedaria :\n",
        "\n",
        "$$ b_{4} := a_{4}$$\n",
        "$$ b_{3} :=a_{3}+b_{3}(7)$$\n",
        "$$ b_{2} :=a_{2}+b_{2}(7)$$\n",
        "$$ b_{1} :=a_{1}+b_{1}(7)$$\n",
        "$$b_{0} := a_{0} + b_{1}(7)$$"
      ]
    },
    {
      "cell_type": "markdown",
      "metadata": {
        "id": "MZqQTaH937Ny"
      },
      "source": [
        "Obteniendo el siguiente resultado:\n",
        "\n",
        "$$b_{4}=5$$\n",
        "$$b_{3}=8+5(7)=43$$\n",
        "$$b_{2}=4+43(7)=305$$\n",
        "$$b_{1}=6+305(7)=2141$$\n",
        "$$b_{0}=3+2141(7) = 14490$$"
      ]
    },
    {
      "cell_type": "markdown",
      "metadata": {
        "id": "WK81gfta37Ny"
      },
      "source": [
        "La implementación en python del algoritmo seria :"
      ]
    },
    {
      "cell_type": "code",
      "execution_count": 1,
      "metadata": {
        "id": "KuSWokxA37Nz",
        "outputId": "a6ee3670-8ffd-4c85-ed78-512ea4fa792f"
      },
      "outputs": [
        {
          "name": "stdout",
          "output_type": "stream",
          "text": [
            "Resultado:1052\n"
          ]
        }
      ],
      "source": [
        "#Valor de x\n",
        "valorX=6;\n",
        "#Coeficientes del polinomio\n",
        "coeficientes=[4,5,1,2];\n",
        "b=0;\n",
        "#Recorrer los coeficientes\n",
        "for i in range(0,len(coeficientes)):\n",
        "    #Multiplicar al valor parcial el valor de x más el coeficiente\n",
        "    b= b * valorX + coeficientes[i]\n",
        "print(\"Resultado:\"+str(b))"
      ]
    },
    {
      "cell_type": "markdown",
      "metadata": {
        "id": "JjSLuSEF37N3"
      },
      "source": [
        "El código recursivo quedaría :"
      ]
    },
    {
      "cell_type": "code",
      "execution_count": 2,
      "metadata": {
        "id": "LbddtDnj37N3",
        "outputId": "3471c777-b055-4d32-f8f0-b1ec445044a4"
      },
      "outputs": [
        {
          "name": "stdout",
          "output_type": "stream",
          "text": [
            "El valor es:1052\n"
          ]
        }
      ],
      "source": [
        "# funcion horner\n",
        "def horner(arreglo, x):\n",
        "    if len(arreglo) == 1:\n",
        "        return arreglo[0]\n",
        "    else:\n",
        "        return arreglo[0] + x * horner(arreglo[1:], x)\n",
        "# datos\n",
        "\n",
        "arreglo = [4,5,1,2]\n",
        "x = 6\n",
        "\n",
        "# x = int(input(\"Ingresa el valor de x >> \"))\n",
        "# print(arreglo[0])\n",
        "print(\"El valor es:\" + str(horner(arreglo[::-1], x)))\n"
      ]
    },
    {
      "cell_type": "markdown",
      "metadata": {
        "id": "uQEpc2ba37N5"
      },
      "source": [
        "Cabe recalcar que este algoritmo recursivo resuelve el ejercicio de una manera algebraica con la forma :\n",
        "\n",
        "$$P(x)=5x^4+8x^3+4x^2+6x+3$$\n",
        "$$...$$\n",
        "$$P(x)= a_0+x(a_1+x(a_2+x(a_3+x(a_4+x(a_4)))$$\n",
        "\n"
      ]
    },
    {
      "cell_type": "markdown",
      "metadata": {
        "id": "fbDgT2U_CNHW"
      },
      "source": [
        "# Método de Horner para el cambio de bases"
      ]
    },
    {
      "cell_type": "markdown",
      "metadata": {
        "id": "HzeHYJYPCNHX"
      },
      "source": [
        "Cuando tenemos un número expresado en una base, podemos representarlo de la siguiente manera :\n",
        "\n",
        "$$\n",
        "\\left(257\\right)_{10}\n",
        "$$\n",
        "A su vez, podemos ver este número en base 10  descompuesto como una ecuacion algebraica de la forma :\n",
        "$$\n",
        "\\begin{align}\n",
        "&N = a_nX^n + a_{n-1}X^{n-1} + ... +a_1X^1 +a_0X^0 \\\\\n",
        "&N = \\left(a_na_{n-1}a_{n-2} ... a_1a_0\\right)_{10}\n",
        "\\end{align}\n",
        "$$"
      ]
    },
    {
      "cell_type": "markdown",
      "metadata": {
        "id": "rZKXh6TGCNHY"
      },
      "source": [
        "Para nuestro ejemplo quedaria :\n",
        "\n",
        "$$\n",
        "\\begin{align}\n",
        "(257)_{10} \\quad \\text{Como} &\\rightarrow \\quad 2 \\cdot 10^2 + 5 \\cdot 10^1 + 7 \\cdot 10^0\n",
        "\\end{align}\n",
        "$$\n"
      ]
    },
    {
      "cell_type": "markdown",
      "metadata": {
        "id": "Eg-y2FETCNHY"
      },
      "source": [
        "Recordamos el método Horner :\n",
        "$$\n",
        "\\begin{align}\n",
        "&b_n = a_n\\\\\n",
        "&b_{n-1} = a_{n-1} + b_{n}\\cdot \\beta\\\\\n",
        "\\vdots \\\\\n",
        "&b_0 = a_0 + b_{1}\\cdot \\beta\n",
        "\\end{align}\n",
        "$$\n",
        "Donde $\\beta$ es el grado de la base\n"
      ]
    },
    {
      "cell_type": "markdown",
      "metadata": {
        "id": "mLzpdqKLCNHY"
      },
      "source": [
        "\n",
        "Aplicamos el método de  Horner :\n",
        "\n",
        "$$\n",
        "\\begin{align}\n",
        "a_2=2\\quad\\quad &b_2=2\\\\\n",
        "a_1=5\\quad\\quad &b_1=5 + 2(10)\\\\                  \n",
        "a_0=7\\quad\\quad &b_0=7 + 25(10)\\\\\n",
        "\\downarrow\\\\\n",
        "&b_2=2\\\\\n",
        "&b_1=25\\\\\n",
        "&b_0=257\n",
        "\\end{align}\n",
        "$$\n",
        "\n",
        "\n"
      ]
    },
    {
      "cell_type": "markdown",
      "metadata": {
        "id": "77z1wUVvCNHY"
      },
      "source": [
        "# Ya vimos como se aplica Horner para el cambio de base; ¿ Pero qué sucede si se quiere trabajar con decimales?"
      ]
    },
    {
      "cell_type": "markdown",
      "metadata": {
        "id": "gEEz3G93CNHZ"
      },
      "source": [
        "### Binario a Decimal"
      ]
    },
    {
      "cell_type": "markdown",
      "metadata": {
        "id": "LwY16eg1CNHZ"
      },
      "source": [
        "Pues si tenemos como ejemplo :\n",
        "\n",
        "$$\n",
        "\\begin{align}\n",
        "(1101)_2\n",
        "\\end{align}\n",
        "$$"
      ]
    },
    {
      "cell_type": "markdown",
      "metadata": {
        "id": "SfnHImmQCNHZ"
      },
      "source": [
        "Aplicamos el mismo principio y lo dejamos de la forma :\n",
        "\n",
        "$$\n",
        "\\begin{align}\n",
        "(1101)_2 \\quad \\rightarrow \\quad N = 1x2^3 + 1x2^2 + 0x2^1 + 1x2^0\n",
        "\\end{align}\n",
        "$$"
      ]
    },
    {
      "cell_type": "markdown",
      "metadata": {
        "id": "b1ujqAs8CNHZ"
      },
      "source": [
        "Ahora aplicamos el metodo de Horner :\n",
        "\n",
        "$$\n",
        "\\begin{align}\n",
        "a_3=1\\quad\\quad &b_3 = 1\\\\\n",
        "a_2=1\\quad\\quad &b_2 = 1 + 1(2)\\\\                  \n",
        "a_1=0\\quad\\quad &b_1 = 0 + 3(2)\\\\\n",
        "a_0=1\\quad\\quad &b_0 = 1 + 6(2)\\\\\n",
        "\\downarrow\\\\\n",
        "&b_3=1\\\\\n",
        "&b_2=3\\\\\n",
        "&b_1=6\\\\\n",
        "&b_0=13\n",
        "\\end{align}\n",
        "$$"
      ]
    },
    {
      "cell_type": "markdown",
      "metadata": {
        "id": "TYbcX_v2CNHZ"
      },
      "source": [
        "### Decimal a binario"
      ]
    },
    {
      "cell_type": "markdown",
      "metadata": {
        "id": "9KiZ7EJpCNHa"
      },
      "source": [
        "Tenemos el siguiente Ejemplo\n",
        "\n",
        "$$\n",
        "\\begin{align}\n",
        "(187)_{10}\n",
        "\\end{align}\n",
        "$$\n",
        "Y una de las primeras cosas a hacer antes de pasarla a binario es reeescribirla de la forma :\n",
        "\n",
        "$$\n",
        "\\begin{align}\n",
        "(187)_{10} \\quad \\rightarrow\\quad 1x10^2 + 8x10^1 + 7x10^0\n",
        "\\end{align}\n",
        "$$"
      ]
    },
    {
      "cell_type": "markdown",
      "metadata": {
        "id": "zXnQ7Hc1CNHa"
      },
      "source": [
        "Y lo que hacemos es simple y sensillamente, escribir el equivalente de cada numero en binario\n",
        "\n",
        "$$\n",
        "1 = 0001\\\\\n",
        "2 = 0010\\\\\n",
        "3 = 0011\\\\\n",
        "4 = 0100\\\\\n",
        "5 = 0101\\\\\n",
        "6 = 0110\\\\\n",
        "7 = 0111\\\\\n",
        "8 = 1000\\\\\n",
        "9 = 1000\\\\\n",
        "10 =1010\\\\\n",
        "$$"
      ]
    },
    {
      "cell_type": "markdown",
      "metadata": {
        "id": "GtHQFzAHCNHa"
      },
      "source": [
        "Una vez aclarado esto, aplicamos el metodo de Horner :\n",
        "$$\n",
        "\\begin{align}\n",
        "a_2=0001  \\quad\\quad  &b_2 = 0001\\\\                 \n",
        "a_1=1000  \\quad\\quad  &b_1 = 1000 + 0001(1010)\\\\\n",
        "a_0=0111  \\quad\\quad  &b_0 = 0111 + 10010(1010)\\\\\n",
        "\\downarrow\\\\\n",
        "&b_2 = 0001\\\\\n",
        "&b_1 = 10010\\\\\n",
        "&b_0 = 10111011\n",
        "\\end{align}\n",
        "$$"
      ]
    },
    {
      "cell_type": "markdown",
      "metadata": {
        "id": "EAggqwxNCNHa"
      },
      "source": [
        "### Si queremos pasar de base 10( decimal) a base 8 ( octal )"
      ]
    },
    {
      "cell_type": "markdown",
      "metadata": {
        "id": "cOmHrCEFCNHa"
      },
      "source": [
        "De manera similar, si queremos pasar de un sistema a otro, lo que debemos hacer es trabajar con el sistema receptor, en este caso es el octal para el siguiente ejemplo :\n",
        "\n"
      ]
    },
    {
      "cell_type": "markdown",
      "metadata": {
        "id": "TMHXMvSLCNHa"
      },
      "source": [
        "**convertir el siguiente número a octal** :\n",
        "\n",
        "$$\n",
        "(187)_{10 }\n",
        "$$"
      ]
    },
    {
      "cell_type": "markdown",
      "metadata": {
        "id": "A7ZG1Bw1CNHa"
      },
      "source": [
        "Pues lo que hacemos es reescribir el numero pero tomando en cuenta la base en el sistema octal que nos dice que\n",
        "del 1 al 7 decimal, su valor en octal no cambia.\n",
        "\n",
        "pero apartir del 8, toman estos valores:\n",
        "$$\n",
        "8 \\rightarrow 10\\\\\n",
        "9 \\rightarrow 11\\\\\n",
        "10 \\rightarrow 12\n",
        "$$\n",
        "basicamente, apartir del 8, para deducir su valor en octal solo se le aumenta en 2."
      ]
    },
    {
      "cell_type": "markdown",
      "metadata": {
        "id": "gYg4WFOTCNHa"
      },
      "source": [
        "Una vez aclarado el sistema octal, procedemos a reescribir el numero pero en sistema octal :\n",
        "$$\n",
        "\\begin{align}\n",
        "\\left( 187_{10}\\right) &= 1x(10)^2_{10} + 8x(10)^1_{10} + 7x(10)_{10} \\quad \\leftarrow \\text{Ecuacion reeescrita decimal}\\\\\\\\\n",
        "&= 1x(12)^2_8 + 10x(12)^1_8 + 7x(12)_8 \\quad \\leftarrow \\text{Ecuacion reeescrita en octal}\\\\\\\\\n",
        "\\end{align}\n",
        "$$\n",
        "\n"
      ]
    },
    {
      "cell_type": "markdown",
      "metadata": {
        "id": "SOkg3JM2CNHa"
      },
      "source": [
        "Como ya tenemos la ecuacion reescrita en octal, aplicamos el metodo de Horner :\n",
        "$$\n",
        "\\begin{align}\n",
        "a_2 = 1 \\quad \\quad &b_2 = 1\\\\\n",
        "a_1 = 10\\quad \\quad &b_1 = 10 + 1(12) = 22\\\\\n",
        "a_0 = 7\\quad \\quad  &b_0 = 7 + 22(12) = 271 \\rightarrow 273\\\\\n",
        "\\end{align}\n",
        "$$\n",
        "$$\\left(187\\right)_{10} = 273$$\n",
        "\n"
      ]
    },
    {
      "cell_type": "markdown",
      "metadata": {
        "id": "x8Q4LW8oCNHa"
      },
      "source": [
        "## Ahora Trabajaremos con numeros decimales"
      ]
    },
    {
      "cell_type": "markdown",
      "metadata": {
        "id": "oDMqgehcCNHa"
      },
      "source": [
        "Supongamos que tenemos el siguiente ejemplo\n",
        "\n",
        "$$\n",
        "(254.625)\n",
        "$$"
      ]
    },
    {
      "cell_type": "markdown",
      "metadata": {
        "id": "NJ1nPS3tCNHa"
      },
      "source": [
        "Notamos que este numero consta de dos partes, un entero '$I$' y un flotante '$F$'\n",
        "Entonces, este numero puede ser expresado como una multiplicacion de la siguiente manera:\n",
        "$$\n",
        "\\begin{align}\n",
        "(254.625) \\quad = X_I \\cdot X_F \\quad\n",
        "&\\text{donde :}\n",
        "\\quad X_F =  \\sum_{k=1}^{\\infty}b_k\\cdot \\beta^{-k}\n",
        "\\end{align}\n",
        "$$\n",
        "Entonces N estaria dado por\n",
        "$$\n",
        "N = \\left(a_n\\cdot a_{n_1}\\dots a_{n_1} \\cdot a_{n_0}  \\bullet b_n \\cdot b_{n-1} \\dots b_1 \\cdot b_0  \\right)\\\\\n",
        "$$"
      ]
    },
    {
      "cell_type": "markdown",
      "metadata": {
        "id": "gFX2fH8ECNHb"
      },
      "source": [
        "Pero que pas si tenemos un numero flotante ( sin parte entera ) $ ( 0.fff)$\n",
        "\n",
        "con este no se puede aplicar el metodo convencional, por lo que tendria que hacer una variacion del algoritmo que consiste en :\n",
        "$$\n",
        "\\begin{align}\n",
        "X_F &= \\left(0.b_1\\cdot b_2\\cdot b_3\\dots\\right)_2\\\\\n",
        "X_F &= \\sum_{k=1}^{\\infty}b_k\\cdot 2^{-k}\\\\\n",
        "2X_F &= \\sum_{k=1}^{\\infty}b_k\\cdot 2^{-k+1}\\\\\n",
        "&= b_1(2^{-1+1}) + \\sum_{k=1}^{\\infty}b_k\\cdot 2^{-k}\\\\\n",
        "\\end{align}\n",
        "$$"
      ]
    },
    {
      "cell_type": "markdown",
      "metadata": {
        "id": "TwKtCTsvCNHb"
      },
      "source": [
        "Con esta formula, entendemos que, al tener un numero decimal sin parte entera $(0.ffff)$\n",
        "\n",
        "lo que hacemos es multiplicarlo por la base $ \\beta $ y el resultado expandirlo en una suma en la que la parte entera sera el balor de $ b_1$ y la parte decimal servira para seguir obteniendo el valor de las demas b hasta que se llegue a cero.\n",
        "$$\n",
        "\\begin{align}\n",
        "2F_X = &b_1(2^{-1+1}) &+ \\sum_{k=1}^{\\infty}b_k\\cdot 2^{-k}\\\\\n",
        "&\\downarrow                 &\\downarrow\\\\\n",
        "2F_x = &(2X_F)_E &+ (2X_F)_F\\\\\n",
        "b_1 = (2X_F)_E\n",
        "\\end{align}\n",
        "$$"
      ]
    },
    {
      "cell_type": "markdown",
      "metadata": {
        "id": "PtHwwDKsCNHb"
      },
      "source": [
        "$$\n",
        "\\begin{align}\n",
        "X = &b_1(2^{-1+1}) &+ \\sum_{k=1}^{\\infty}b_k\\cdot 2^{-k}\\\\\n",
        "\\end{align}\n",
        "$$"
      ]
    },
    {
      "cell_type": "markdown",
      "metadata": {
        "id": "rG2vV0GaCNHb"
      },
      "source": [
        "Ejemplo\n",
        "\n",
        "Si deseamos pasar el numero $ (0.625)_{10}$ a decimal, osea base 2\n"
      ]
    },
    {
      "cell_type": "markdown",
      "metadata": {
        "id": "YX3oc50-CNHb"
      },
      "source": [
        "Tenemos\n",
        "$$\n",
        "\\begin{align}\n",
        "&b_1 = 2(0.625)_{10} = 1.25 &\\rightarrow 1_E + 0.25_F \\\\\n",
        "&b_1 = 1 \\\\\n",
        "&b_2 = 2(0.25)_{10} = .5 &\\rightarrow 0_E + 0.5_F \\\\\n",
        "&b_2 = 0\\\\\n",
        "&b_3 = 2(0.5)_{10} = 1 &\\rightarrow 1_E + 0.0_F \\\\\n",
        "&b_3 = 1\n",
        "\\end{align}\n",
        "$$"
      ]
    },
    {
      "cell_type": "markdown",
      "metadata": {
        "id": "hVtyHlwdCNHb"
      },
      "source": [
        "Como el valor flotante de la ultima iteracion es 0, eso nos indica que ya llegamos al tope por lo que ya tenemos el numero trasladado a binario.\n",
        "\n",
        "\n",
        "Por lo tanto el resultado es\n",
        "$$\n",
        "(0.625)_{10} \\quad \\rightarrow \\quad (.101)_2\n",
        "$$"
      ]
    },
    {
      "cell_type": "markdown",
      "metadata": {
        "id": "R0N27La3CNHb"
      },
      "source": [
        "### Binario a flotante"
      ]
    },
    {
      "cell_type": "markdown",
      "metadata": {
        "id": "rUe8GdUMCNHb"
      },
      "source": [
        "Ejemplo\n",
        "\n",
        "$$\n",
        "(.101)_2 \\quad \\rightarrow \\quad (0.fff)_{10}\n",
        "$$"
      ]
    },
    {
      "cell_type": "markdown",
      "metadata": {
        "id": "a3qZfUy3F0vp"
      },
      "source": [
        "# Ejercicio cambio de base"
      ]
    },
    {
      "cell_type": "markdown",
      "metadata": {
        "id": "Hs1k6hT1GMuR"
      },
      "source": [
        "Se encontró que dado un 𝑥 entre 0 y 1 y un entero 𝛽 mayor que 1, se puede generar recursivamente 𝑏1, 𝑏2, 𝑏3, … por:\n",
        "\n",
        "$$\n",
        "\\begin{align}\n",
        "&c_0 = x \\\\\n",
        "&b_1 = (\\beta c_0)_E, \\qquad c_1=(\\beta c_0)_F \\\\\n",
        "&b_2 = (\\beta c_1)_E, \\qquad c_2=(\\beta c_1)_F \\\\\n",
        "&b_3 = (\\beta c_2)_E, \\qquad c_3=(\\beta c_2)_F \\\\ \\\\\n",
        "\\end{align}\n",
        "$$\n",
        "\n",
        "Entonces:\n",
        "$x=(.b_1b_2b_3...)= ∑^{∞}_{k=1}b_k \\beta^{-k}$"
      ]
    },
    {
      "cell_type": "markdown",
      "metadata": {
        "id": "Lxuc5UhKH5Mi"
      },
      "source": [
        "⦁\tRealice un programa que implemente este algoritmo."
      ]
    },
    {
      "cell_type": "code",
      "execution_count": 3,
      "metadata": {
        "id": "uoQUTb8XIPJP"
      },
      "outputs": [],
      "source": [
        "import numpy as np\n",
        "import matplotlib.pyplot as plt\n",
        "from decimal import Decimal, getcontext\n",
        "import csv"
      ]
    },
    {
      "cell_type": "code",
      "execution_count": 4,
      "metadata": {
        "id": "t0ypvMsxGJe_"
      },
      "outputs": [],
      "source": [
        "def decimal_to_binary(decimal,max_iteraciones=50):\n",
        "    # Extrae la parte entera del número decimal\n",
        "    parte_entera = int(decimal)\n",
        "    # Obtiene la parte fraccionaria del número decimal\n",
        "    parte_fraccional = decimal - parte_entera\n",
        "    # Convierte la parte entera a binario y elimina el prefijo '0b'\n",
        "    X_I = bin(parte_entera)[2:]\n",
        "\n",
        "    # Inicializa una lista para almacenar los dígitos binarios de la parte fraccionaria\n",
        "    X_F = []\n",
        "\n",
        "    #definimos nuestro metodo de paro\n",
        "    iteraciones = 1\n",
        "    # Itera hasta que la parte fraccionaria se convierta en 0 o se alcance el límite de precisión\n",
        "    while iteraciones < max_iteraciones and parte_fraccional != 0:\n",
        "        # Multiplica la parte fraccionaria por 2 y toma el dígito entero\n",
        "        parte_fraccional *= 2\n",
        "        bit = int(parte_fraccional)\n",
        "        # Actualiza la parte fraccionaria restando el dígito entero\n",
        "        parte_fraccional -= bit\n",
        "        # Agrega el dígito entero a la lista de dígitos binarios de la parte fraccionaria\n",
        "        X_F.append(bit)\n",
        "        # Incrementa la precisión\n",
        "        iteraciones += 1\n",
        "        if iteraciones==15:\n",
        "            print(\" \\nSe llego al maximo de iteraciones\")\n",
        "\n",
        "    # Convierte la lista de dígitos binarios en una cadena y une con la parte entera binaria\n",
        "    X_F_binario = ''.join(str(bit) for bit in X_F)\n",
        "    # Combina la parte entera binaria y la parte fraccionaria binaria para formar el número binario completo\n",
        "    Numero_base2 = X_I + '.' + X_F_binario\n",
        "    # Devuelve el número binario completo como una cadena\n",
        "    return Numero_base2\n"
      ]
    },
    {
      "cell_type": "code",
      "execution_count": 6,
      "metadata": {
        "colab": {
          "base_uri": "https://localhost:8080/"
        },
        "id": "GFH5gKHHIF-S",
        "outputId": "f312c27d-f4a6-456a-b987-517dd378fe21"
      },
      "outputs": [
        {
          "name": "stdout",
          "output_type": "stream",
          "text": [
            "El resultado en binario es: 1010.\n"
          ]
        }
      ],
      "source": [
        "#capturamos el numero decimal a comvertir\n",
        "#Numero_decimal = float(input(\"\\nIngrese el número decimal (base 10) que desea convertir a binario (base 2): \"))\n",
        "\n",
        "Numero_decimal = float(10)\n",
        "\n",
        "# Llama a la función para convertir el número decimal en binario\n",
        "result = decimal_to_binary(Numero_decimal,10)\n",
        "\n",
        "# Imprime el resultado en binario\n",
        "print(f\"El resultado en binario es: {result}\")\n"
      ]
    }
  ],
  "metadata": {
    "colab": {
      "provenance": []
    },
    "kernelspec": {
      "display_name": "Python 3",
      "language": "python",
      "name": "python3"
    },
    "language_info": {
      "codemirror_mode": {
        "name": "ipython",
        "version": 3
      },
      "file_extension": ".py",
      "mimetype": "text/x-python",
      "name": "python",
      "nbconvert_exporter": "python",
      "pygments_lexer": "ipython3",
      "version": "3.13.3"
    },
    "orig_nbformat": 4
  },
  "nbformat": 4,
  "nbformat_minor": 0
}
