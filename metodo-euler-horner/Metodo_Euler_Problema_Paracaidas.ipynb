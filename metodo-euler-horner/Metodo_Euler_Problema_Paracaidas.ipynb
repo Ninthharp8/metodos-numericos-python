{
  "cells": [
    {
      "cell_type": "markdown",
      "metadata": {
        "id": "9ed1vXH1z_UX"
      },
      "source": [
        "# Método de Euler aplicado al problema del paracaídas"
      ]
    },
    {
      "cell_type": "markdown",
      "metadata": {
        "id": "qj2CnOIk886t"
      },
      "source": [
        "###  Objetivo\n",
        "\n",
        "Resolver una ecuación diferencial ordinaria (EDO) de primer orden que modela el movimiento de un paracaidista, aplicando el método numérico de Euler.\n"
      ]
    },
    {
      "cell_type": "markdown",
      "metadata": {
        "id": "zNlCJ9m69B_L"
      },
      "source": [
        "### Fundamento Teórico"
      ]
    },
    {
      "cell_type": "markdown",
      "metadata": {
        "id": "RWvvI1ge9NE0"
      },
      "source": [
        "#### Modelo Físico"
      ]
    },
    {
      "cell_type": "markdown",
      "metadata": {
        "id": "sqfO_Qisz_Ue"
      },
      "source": [
        "Un paracaidista, con una masa de 68.1 kg salta de un globo aerostatico fijo. calcule la velocidad antes de abrir el paracaidas. Tomando en cuenta el coeficiente de resistencia = 12kg/s"
      ]
    },
    {
      "cell_type": "markdown",
      "metadata": {
        "id": "09qkPdJsz_Uf"
      },
      "source": [
        "Usando la segunda ley de newton :\n",
        "\n",
        "$$ F=ma $$\n",
        "\n",
        "$$ a = \\frac{F}{m}$$  \n",
        "                       Donde F = fuerza\n",
        "                             m = masa\n",
        "                             g = gravedad\n",
        "                             a = aceleracion\n"
      ]
    },
    {
      "cell_type": "markdown",
      "metadata": {
        "id": "067bNm1Dz_Ui"
      },
      "source": [
        "Y sabiendo que la derivada de la velocidad es la aceleracion :\n",
        "\n",
        "\n",
        "$$\n",
        "\\begin{align}\n",
        "\\frac{dv}{dv} = \\frac{F}{m} = a\n",
        "\\end{align}\n",
        "$$\n"
      ]
    },
    {
      "cell_type": "markdown",
      "metadata": {
        "id": "8aFkDUXiz_Uj"
      },
      "source": [
        "Con:\n",
        "$$\n",
        "\\begin{align}\n",
        "F = F_D + F_U\n",
        "\\end{align}\n",
        "$$"
      ]
    },
    {
      "cell_type": "markdown",
      "metadata": {
        "id": "JpEgyv8Vz_Uk"
      },
      "source": [
        "\n",
        "Donde :\n",
        "\n",
        "$$\n",
        "\\begin{align}\n",
        "F_D &= mg\\\\\n",
        "F_U &= -cu\n",
        "\\end{align}\n",
        "$$"
      ]
    },
    {
      "cell_type": "markdown",
      "metadata": {
        "id": "_X4JiXosz_Ul"
      },
      "source": [
        "\n",
        "\n",
        "\n",
        "Asi pues, sustituyendo terminos :\n",
        "\n",
        "$$\n",
        "\\begin{align}\n",
        "\\frac{dv}{dt}= \\frac{mg-cv}{m}\n",
        "\\end{align}\n",
        "$$\n",
        "\n",
        "\n"
      ]
    },
    {
      "cell_type": "markdown",
      "metadata": {
        "id": "JG1ejLvXz_Ul"
      },
      "source": [
        "Simplificando la ecuacion anterior, obtenemos la siguiente:\n",
        "\n",
        "$$\\frac{dv}{dt}= g-\\frac{c}{m}v$$\n",
        "\n",
        "lo anterior seria el modelo **fisico** del problema"
      ]
    },
    {
      "cell_type": "markdown",
      "metadata": {
        "id": "ayX8anP89ST5"
      },
      "source": [
        "#### Modelo Matemático"
      ]
    },
    {
      "cell_type": "markdown",
      "metadata": {
        "id": "hYXkuiDrz_Um"
      },
      "source": [
        "Partiendo de este modelo fisico, Resolvemos la ecuación diferencial y obtenemos el modelo matemático del problema quedando :\n",
        "$$\\frac{dv}{dt}= g-\\frac{c}{m}v \\qquad \\rightarrow \\qquad v(t) =\\frac{gm}c(1-e^{-\\frac{c}{m}t})$$"
      ]
    },
    {
      "cell_type": "markdown",
      "metadata": {
        "id": "h8WvQqsmz_Un"
      },
      "source": [
        "Ahora usamos un método numerico, que es un procedimiento mediante el cual se obtiene, casi siempre de manera aproximada.\n",
        "\n",
        "Entonces, para el caso de la segunda ley de newton, observando que a la razón de cambio de la velocidad con respecto al tiempo se puede aproximar mediante :\n",
        "\n",
        "$$\n",
        "\\begin{align}\n",
        "\\frac{dv}{dt} \\approx \\frac{\\Delta v}{\\Delta t} = \\frac{v(t_{i+1}) - v(t_i)}{t_{i+1} - t_i}\n",
        "\\end{align}\n",
        "$$\n",
        "\n",
        "Donde $\\Delta v$ y $\\Delta t$ son diferencias en la velocidad y en el tiempo, respectivamente calculadas sobre intervalos finitos,\n",
        "$v(t_{1})$ es la velocidad en el tiempo inicial y $v(t_{i+1})$ la velocidad en el tiempo mas tarde."
      ]
    },
    {
      "cell_type": "markdown",
      "metadata": {
        "id": "rcsQLPuCz_Uo"
      },
      "source": [
        "Retomamos la ecuacion diferencial y aplicamos la aproximación :\n",
        "$$\n",
        "\\begin{align}\n",
        "&\\frac{dv}{dt} = g-\\frac{c}{m}v\\\\ \\\\\n",
        "&\\frac{dv}{dt} \\approx \\frac{\\Delta v}{\\Delta t} = \\frac{v(t_{i+1}) - v(t_i)}{t_{i+1} - t_i}\\\\ \\\\\n",
        "&\\frac{v(t_{i+1}) - v(t_i)}{t_{i+1} - t_i} = g-\\frac{c}{m}v\n",
        "\\end{align}\n",
        "$$\n",
        "\n",
        "\n"
      ]
    },
    {
      "cell_type": "markdown",
      "metadata": {
        "id": "dSCopERMz_Uo"
      },
      "source": [
        "Despejamos $v(t_{i+1})$ de la ecuacion anterior :\n",
        "\n",
        "$$\n",
        "v(t_{i+1}) = v(t_{i}) + \\left( g - \\frac{c}{m}v(t_{i})\\right)(t_{i+1} - t_i)\n",
        "$$\n"
      ]
    },
    {
      "cell_type": "markdown",
      "metadata": {
        "id": "41e_RA-3z_Uo"
      },
      "source": [
        "Sabemos que el error relativo porcentual verdadero es\n",
        "$$\n",
        "\\varepsilon_t = \\left[\\frac{V_v - V_a}{V_v} \\right]\\cdot100\\%\n",
        "$$\n",
        "\n",
        "y el error relativo porcentual aproximado es\n",
        "$$\n",
        "\\varepsilon_a = \\left[\\frac{V_{actual} - V_{anterior}}{V_{actual}}\\right]\\cdot100\\%\n",
        "$$"
      ]
    },
    {
      "cell_type": "markdown",
      "metadata": {
        "id": "mo6O_g5m_DXn"
      },
      "source": [
        "Concluyendo asi, que el método de Euler para el problema del paracaidas es:"
      ]
    },
    {
      "cell_type": "markdown",
      "metadata": {
        "id": "Z7hzMLIdz_Up"
      },
      "source": [
        "$$\n",
        "\\begin{align}\n",
        "&v(t_{i+1}) = v(t_{i}) + \\left( g - \\frac{c}{m}v(t_{i})\\right)(t_{i+1} - t_i)\\\\ \\\\\n",
        "&v(t) =\\frac{gm}c(1-e^{-\\frac{c}{m}t})\n",
        "\\end{align}\n",
        "$$"
      ]
    },
    {
      "cell_type": "markdown",
      "metadata": {
        "id": "sVZJRf7U0W-q"
      },
      "source": [
        "# Ejercicios"
      ]
    },
    {
      "cell_type": "markdown",
      "metadata": {
        "id": "yJvMiM0F0gpH"
      },
      "source": [
        "N.- 01) Anteriormente se encontro que para un paracaidista con una masa de m = 68.1 kg salta de un globo aerostático fijo y con un coeficiente de resistencia es igual a c = 12.5 kg/s, la ecuación que relaciona la velocidad con el tiempo, encontrada de forma aproximada y analítica, es:"
      ]
    },
    {
      "cell_type": "markdown",
      "metadata": {
        "id": "lesAxIMX0l9H"
      },
      "source": [
        "$$\n",
        "\\begin{align}\n",
        "&v(t_{i+1}) = v(t_{i}) + \\left( g - \\frac{c}{m}v(t_{i})\\right)(t_{i+1} - t_i)\\\\ \\\\\n",
        "&v(t) =\\frac{gm}c(1-e^{-\\frac{c}{m}t})\n",
        "\\end{align}\n",
        "$$"
      ]
    },
    {
      "cell_type": "markdown",
      "metadata": {
        "id": "mexHlXiM0rTR"
      },
      "source": [
        "Escriba un programa para obtener las velocidades en un rango de tiempo de 0 a 49 segundos, tanto para la solución analítica como para la aproximación. Utilice el valor de la gravedad g\n",
        "= 9.8 m/s2. Emplee un tamaño de paso (diferencia de tiempo) de dos segundos.\n",
        "Haga una gráfica de velocidad contra tiempo y compare entre la solución analítica y la aproximación."
      ]
    },
    {
      "cell_type": "code",
      "execution_count": 8,
      "metadata": {
        "id": "X1sfNolR0SU5"
      },
      "outputs": [],
      "source": [
        "import numpy as np\n",
        "import matplotlib.pyplot as plt\n",
        "import pandas as pd\n",
        "from decimal import Decimal, getcontext\n"
      ]
    },
    {
      "cell_type": "code",
      "execution_count": 9,
      "metadata": {
        "colab": {
          "base_uri": "https://localhost:8080/",
          "height": 206
        },
        "id": "SXDYYfJe04uL",
        "outputId": "e2c8b722-eb25-4f63-e86f-2c914ffead37"
      },
      "outputs": [
        {
          "data": {
            "text/html": [
              "<div>\n",
              "<style scoped>\n",
              "    .dataframe tbody tr th:only-of-type {\n",
              "        vertical-align: middle;\n",
              "    }\n",
              "\n",
              "    .dataframe tbody tr th {\n",
              "        vertical-align: top;\n",
              "    }\n",
              "\n",
              "    .dataframe thead th {\n",
              "        text-align: right;\n",
              "    }\n",
              "</style>\n",
              "<table border=\"1\" class=\"dataframe\">\n",
              "  <thead>\n",
              "    <tr style=\"text-align: right;\">\n",
              "      <th></th>\n",
              "      <th>Tiempo (s)</th>\n",
              "      <th>Velocidad Analitica (m/s)</th>\n",
              "      <th>Velocidad Aproximada (m/s)</th>\n",
              "    </tr>\n",
              "  </thead>\n",
              "  <tbody>\n",
              "    <tr>\n",
              "      <th>0</th>\n",
              "      <td>0</td>\n",
              "      <td>0.00</td>\n",
              "      <td>0</td>\n",
              "    </tr>\n",
              "    <tr>\n",
              "      <th>1</th>\n",
              "      <td>2</td>\n",
              "      <td>16.41</td>\n",
              "      <td>19.60</td>\n",
              "    </tr>\n",
              "    <tr>\n",
              "      <th>2</th>\n",
              "      <td>4</td>\n",
              "      <td>27.77</td>\n",
              "      <td>32.00</td>\n",
              "    </tr>\n",
              "    <tr>\n",
              "      <th>3</th>\n",
              "      <td>6</td>\n",
              "      <td>35.65</td>\n",
              "      <td>39.85</td>\n",
              "    </tr>\n",
              "    <tr>\n",
              "      <th>4</th>\n",
              "      <td>8</td>\n",
              "      <td>41.10</td>\n",
              "      <td>44.82</td>\n",
              "    </tr>\n",
              "  </tbody>\n",
              "</table>\n",
              "</div>"
            ],
            "text/plain": [
              "  Tiempo (s) Velocidad Analitica (m/s) Velocidad Aproximada (m/s)\n",
              "0          0                      0.00                          0\n",
              "1          2                     16.41                      19.60\n",
              "2          4                     27.77                      32.00\n",
              "3          6                     35.65                      39.85\n",
              "4          8                     41.10                      44.82"
            ]
          },
          "execution_count": 9,
          "metadata": {},
          "output_type": "execute_result"
        }
      ],
      "source": [
        "#definimos la precision de los decimales\n",
        "precision = 4  # Cambia esto al número de dígitos para controlar la precision\n",
        "getcontext().prec = precision\n",
        "\n",
        "# Constantes controladas por la precision.\n",
        "g = Decimal('9.8 ') # m/s^2\n",
        "m = Decimal('68.1')  # kg\n",
        "c = Decimal('12.5 ') # kg/s^2\n",
        "tiempo_maximo = Decimal('49')  # segundos\n",
        "tamaño_paso = Decimal('2')  # segundos\n",
        "\n",
        "# Función para calcular la velocidad analítica en un tiempo dado\n",
        "def velocidad_analitica(t):\n",
        "    return (g * m / c) * (1 - np.exp(-c / m * t))\n",
        "\n",
        "# Función para calcular la velocidad aproximada en un tiempo dado\n",
        "def velocidad_aproximada(ti, vi):\n",
        "    return vi + (g - (c / m) * vi) * ti\n",
        "\n",
        "# Rango de tiempo de 0 a 49 segundos con paso de 2 segundos\n",
        "tiempos = np.arange(0, tiempo_maximo + tamaño_paso, tamaño_paso)\n",
        "\n",
        "# Cálculo de v(t)\n",
        "velocidades_analiticas = velocidad_analitica(tiempos)\n",
        "\n",
        "#calculo de v(t+1)\n",
        "velocidades_aproximadas = [0]  # Inicializamos la velocidad inicial en 0 m/s\n",
        "for i in range(1, len(tiempos)):\n",
        "    vi = velocidades_aproximadas[i - 1]      # se pone i - 1 por que el bucle for de python inicia en 1\n",
        "    ti = tamaño_paso\n",
        "    v_aprox = velocidad_aproximada(ti, vi)\n",
        "    velocidades_aproximadas.append(v_aprox)\n",
        "\n",
        "# Crear un DataFrame con los valores\n",
        "data = {\n",
        "    'Tiempo (s)': tiempos,\n",
        "    'Velocidad Analitica (m/s)': velocidades_analiticas,\n",
        "    'Velocidad Aproximada (m/s)': velocidades_aproximadas\n",
        "}\n",
        "df = pd.DataFrame(data)\n",
        "# Guardar el DataFrame en un archivo CSV si aplica\n",
        "#df.to_csv('N1_resultados.csv', index=False)\n",
        "df.head()\n"
      ]
    },
    {
      "cell_type": "markdown",
      "metadata": {
        "id": "D2Ea-BkP1E6D"
      },
      "source": [
        "Los resultados que este código proporciona son:\n"
      ]
    },
    {
      "cell_type": "code",
      "execution_count": 10,
      "metadata": {
        "colab": {
          "base_uri": "https://localhost:8080/",
          "height": 565
        },
        "id": "lZvejCr31CDm",
        "outputId": "6492703d-d57e-4e32-e50c-9d89207f4db1"
      },
      "outputs": [
        {
          "data": {
            "image/png": "[encoded data removed]",
            "text/plain": [
              "<Figure size 1000x600 with 1 Axes>"
            ]
          },
          "metadata": {},
          "output_type": "display_data"
        }
      ],
      "source": [
        "# Graficar los resultados\n",
        "plt.figure(figsize=(10, 6))\n",
        "plt.plot(tiempos, velocidades_analiticas, label='Solución Analítica', marker='o')\n",
        "plt.plot(tiempos, velocidades_aproximadas, label='Aproximación', marker='x')\n",
        "plt.xlabel('Tiempo (s)')\n",
        "plt.ylabel('Velocidad (m/s)')\n",
        "plt.title('Comparación entre la Solución Analítica y la Aproximación')\n",
        "plt.legend()\n",
        "plt.grid(True)\n",
        "plt.show()"
      ]
    },
    {
      "cell_type": "markdown",
      "metadata": {
        "id": "5csB6IFB1NHp"
      },
      "source": [
        "La grafica de comparación de velocidades en el tiempo de 0 a 49 segundos."
      ]
    },
    {
      "cell_type": "markdown",
      "metadata": {
        "id": "TPhr8ODp1Ukq"
      },
      "source": [
        "N.- 02) En clases se encontró que cunado la velocidad del viento es directamente proporcional al cuadrado de la velocidad (𝐹𝑑 = 𝑐𝑣2), la solución analítica y la aproximación se de las ecuaciones de la velocidad con respecto al tiempo son:"
      ]
    },
    {
      "cell_type": "markdown",
      "metadata": {
        "id": "wpwQxKks2J9f"
      },
      "source": [
        "$$\n",
        "\\begin{align}\n",
        "&v(t) =\\sqrt\\frac{gm}c \\cdot \\tanh \\left( \\sqrt \\frac{gc}m \\right) \\\\ \\\\\n",
        "&v(t_{i+1}) = v(t_{i}) + \\left( g - \\frac{c}{m}v(t_{i})^2\\right)(t_{i+1} - t_i)\n",
        "\\end{align}\n",
        "$$"
      ]
    },
    {
      "cell_type": "markdown",
      "metadata": {
        "id": "57rOah7n1YLT"
      },
      "source": [
        "Escriba un programa para obtener las velocidades en un rango de tiempo de 0 a 49 segundos, tanto para la solución analítica como para la aproximación. Utilice el valor de la gravedad g\n",
        "= 9.8 m/s2, y un coeficiente de resistencia es igual a c = 0.2 kg/s, Emplee un tamaño de paso (diferencia de tiempo) de dos segundos.\n"
      ]
    },
    {
      "cell_type": "code",
      "execution_count": 11,
      "metadata": {
        "colab": {
          "base_uri": "https://localhost:8080/",
          "height": 206
        },
        "id": "3jhZogdC1Xr1",
        "outputId": "e1d735e5-6e64-4150-e210-bdd1bb307914"
      },
      "outputs": [
        {
          "data": {
            "text/html": [
              "<div>\n",
              "<style scoped>\n",
              "    .dataframe tbody tr th:only-of-type {\n",
              "        vertical-align: middle;\n",
              "    }\n",
              "\n",
              "    .dataframe tbody tr th {\n",
              "        vertical-align: top;\n",
              "    }\n",
              "\n",
              "    .dataframe thead th {\n",
              "        text-align: right;\n",
              "    }\n",
              "</style>\n",
              "<table border=\"1\" class=\"dataframe\">\n",
              "  <thead>\n",
              "    <tr style=\"text-align: right;\">\n",
              "      <th></th>\n",
              "      <th>Tiempo (s)</th>\n",
              "      <th>Velocidad Analítica (m/s)</th>\n",
              "      <th>Velocidad Aproximada (m/s)</th>\n",
              "    </tr>\n",
              "  </thead>\n",
              "  <tbody>\n",
              "    <tr>\n",
              "      <th>0</th>\n",
              "      <td>0</td>\n",
              "      <td>0.000000</td>\n",
              "      <td>0.000000</td>\n",
              "    </tr>\n",
              "    <tr>\n",
              "      <th>1</th>\n",
              "      <td>2</td>\n",
              "      <td>18.880946</td>\n",
              "      <td>19.600000</td>\n",
              "    </tr>\n",
              "    <tr>\n",
              "      <th>2</th>\n",
              "      <td>4</td>\n",
              "      <td>34.117072</td>\n",
              "      <td>36.943554</td>\n",
              "    </tr>\n",
              "    <tr>\n",
              "      <th>3</th>\n",
              "      <td>6</td>\n",
              "      <td>44.422583</td>\n",
              "      <td>48.526954</td>\n",
              "    </tr>\n",
              "    <tr>\n",
              "      <th>4</th>\n",
              "      <td>8</td>\n",
              "      <td>50.588060</td>\n",
              "      <td>54.295146</td>\n",
              "    </tr>\n",
              "  </tbody>\n",
              "</table>\n",
              "</div>"
            ],
            "text/plain": [
              "   Tiempo (s)  Velocidad Analítica (m/s)  Velocidad Aproximada (m/s)\n",
              "0           0                   0.000000                    0.000000\n",
              "1           2                  18.880946                   19.600000\n",
              "2           4                  34.117072                   36.943554\n",
              "3           6                  44.422583                   48.526954\n",
              "4           8                  50.588060                   54.295146"
            ]
          },
          "execution_count": 11,
          "metadata": {},
          "output_type": "execute_result"
        }
      ],
      "source": [
        "# Constantes\n",
        "g = 9.8  # m/s^2\n",
        "m = 68.1  # kg\n",
        "c = 0.2   # kg/s\n",
        "tiempo_maximo = 49  # segundos\n",
        "tamaño_paso = 2  # segundos\n",
        "\n",
        "# Función para calcular la velocidad analítica en un tiempo dado\n",
        "def velocidad_analitica(t):\n",
        "    return np.sqrt((g * m / c)) * np.tanh(np.sqrt((g * c / m)) * t)\n",
        "\n",
        "# Función para calcular la velocidad aproximada en un tiempo dado\n",
        "def velocidad_aproximada(ti, vi):\n",
        "    return vi + (g - (c / m) * vi ** 2) * ti\n",
        "\n",
        "# Rango de tiempo de 0 a 49 segundos con paso de 2 segundos\n",
        "tiempos = np.arange(0, tiempo_maximo + tamaño_paso, tamaño_paso)\n",
        "\n",
        "# Cálculo de velocidades usando las fórmulas\n",
        "velocidades_analiticas = velocidad_analitica(tiempos)\n",
        "velocidades_aproximadas = [0]  # Inicializamos la velocidad inicial en 0 m/s\n",
        "for i in range(1, len(tiempos)):\n",
        "    vi = velocidades_aproximadas[i - 1]\n",
        "    ti = tamaño_paso\n",
        "    v_aprox = velocidad_aproximada(ti, vi)\n",
        "    velocidades_aproximadas.append(v_aprox)\n",
        "\n",
        "# Crear un DataFrame con los valores\n",
        "data = {\n",
        "    'Tiempo (s)': tiempos,\n",
        "    'Velocidad Analítica (m/s)': velocidades_analiticas,\n",
        "    'Velocidad Aproximada (m/s)': velocidades_aproximadas\n",
        "}\n",
        "df = pd.DataFrame(data)\n",
        "\n",
        "# Guardar el DataFrame en un archivo CSV\n",
        "#df.to_csv('N2_resultados.csv', index=False,float_format='%.2f')\n",
        "df.head()\n"
      ]
    },
    {
      "cell_type": "markdown",
      "metadata": {
        "id": "20imosUB1qCk"
      },
      "source": [
        "Haga una gráfica de velocidad contra tiempo y compare entre la solución analítica y la aproximación."
      ]
    },
    {
      "cell_type": "code",
      "execution_count": 12,
      "metadata": {
        "colab": {
          "base_uri": "https://localhost:8080/",
          "height": 565
        },
        "id": "9S7p2cWi1q5v",
        "outputId": "128c90d0-c7fd-4e61-f0af-1d06ee09396f"
      },
      "outputs": [
        {
          "data": {
            "image/png": "[encoded data removed]",
            "text/plain": [
              "<Figure size 1000x600 with 1 Axes>"
            ]
          },
          "metadata": {},
          "output_type": "display_data"
        }
      ],
      "source": [
        "# Graficar los resultados\n",
        "plt.figure(figsize=(10, 6))\n",
        "plt.plot(tiempos, velocidades_analiticas, label='Solución Analítica', marker='o')\n",
        "plt.plot(tiempos, velocidades_aproximadas, label='Aproximación', marker='x')\n",
        "plt.xlabel('Tiempo (s)')\n",
        "plt.ylabel('Velocidad (m/s)')\n",
        "plt.title('Comparación entre la Solución Analítica y la Aproximación cuando F_d = CV^2')\n",
        "plt.legend()\n",
        "plt.grid(True)\n",
        "plt.show()"
      ]
    },
    {
      "cell_type": "markdown",
      "metadata": {
        "id": "a4w3nHcyJiN5"
      },
      "source": [
        "N.-03 En el programa que se realizó para encontrar la velocidad en función del tiempo sobre el paracaidista (con 𝐹𝑑 = 𝑐𝑣) con una masa m = 68.1 kg y con un coeficiente de resistencia es igual a c = 12.5 kg/s, la ecuación que relaciona la velocidad con el tiempo, en forma aproximada es:\n"
      ]
    },
    {
      "cell_type": "markdown",
      "metadata": {
        "id": "PTeVVt1RJvIz"
      },
      "source": [
        "$$\n",
        "\\begin{align}\n",
        "&v(t_{i+1}) = v(t_{i}) + \\left( g - \\frac{c}{m}v(t_{i})\\right)(t_{i+1} - t_i)\\\\ \\\\\n",
        "&v(t) =\\frac{gm}c(1-e^{-\\frac{c}{m}t})\n",
        "\\end{align}\n",
        "$$"
      ]
    },
    {
      "cell_type": "markdown",
      "metadata": {
        "id": "zVEbMZOzJ1ZF"
      },
      "source": [
        "Incorpore adecuaciones a su programa para calcular los errores relativos aproximado y verdadero. Utilice aritmética de 4 dígitos y calcule los errores relativos aproximado y verdadero y finalice el programa cuando |𝜀𝑎| < 𝜀𝑠 = 0.05 %.\n"
      ]
    },
    {
      "cell_type": "code",
      "execution_count": 13,
      "metadata": {
        "colab": {
          "base_uri": "https://localhost:8080/",
          "height": 241
        },
        "id": "dKftBB1eJpxv",
        "outputId": "dc0611da-ef55-45ca-a2d7-a303f3df85ce"
      },
      "outputs": [
        {
          "name": "stdout",
          "output_type": "stream",
          "text": [
            " El calculo se detuvo por que ε_a > ε_s\n",
            "El programa se detuvo despues de 16 operaciones\n"
          ]
        },
        {
          "data": {
            "text/html": [
              "<div>\n",
              "<style scoped>\n",
              "    .dataframe tbody tr th:only-of-type {\n",
              "        vertical-align: middle;\n",
              "    }\n",
              "\n",
              "    .dataframe tbody tr th {\n",
              "        vertical-align: top;\n",
              "    }\n",
              "\n",
              "    .dataframe thead th {\n",
              "        text-align: right;\n",
              "    }\n",
              "</style>\n",
              "<table border=\"1\" class=\"dataframe\">\n",
              "  <thead>\n",
              "    <tr style=\"text-align: right;\">\n",
              "      <th></th>\n",
              "      <th>Tiempo (s)</th>\n",
              "      <th>Velocidad Analítica (m/s)</th>\n",
              "      <th>Error Relativo Verdadero</th>\n",
              "      <th>Velocidad Aproximada (m/s)</th>\n",
              "      <th>Error Relativo Aproximado</th>\n",
              "    </tr>\n",
              "  </thead>\n",
              "  <tbody>\n",
              "    <tr>\n",
              "      <th>0</th>\n",
              "      <td>0</td>\n",
              "      <td>0.00</td>\n",
              "      <td>0</td>\n",
              "      <td>0</td>\n",
              "      <td>0</td>\n",
              "    </tr>\n",
              "    <tr>\n",
              "      <th>1</th>\n",
              "      <td>2</td>\n",
              "      <td>16.41</td>\n",
              "      <td>0.6926</td>\n",
              "      <td>19.60</td>\n",
              "      <td>1</td>\n",
              "    </tr>\n",
              "    <tr>\n",
              "      <th>2</th>\n",
              "      <td>4</td>\n",
              "      <td>27.77</td>\n",
              "      <td>0.4799</td>\n",
              "      <td>32.00</td>\n",
              "      <td>0.3875</td>\n",
              "    </tr>\n",
              "    <tr>\n",
              "      <th>3</th>\n",
              "      <td>6</td>\n",
              "      <td>35.65</td>\n",
              "      <td>0.3323</td>\n",
              "      <td>39.85</td>\n",
              "      <td>0.1970</td>\n",
              "    </tr>\n",
              "    <tr>\n",
              "      <th>4</th>\n",
              "      <td>8</td>\n",
              "      <td>41.10</td>\n",
              "      <td>0.2302</td>\n",
              "      <td>44.82</td>\n",
              "      <td>0.1109</td>\n",
              "    </tr>\n",
              "  </tbody>\n",
              "</table>\n",
              "</div>"
            ],
            "text/plain": [
              "   Tiempo (s) Velocidad Analítica (m/s) Error Relativo Verdadero  \\\n",
              "0           0                      0.00                        0   \n",
              "1           2                     16.41                   0.6926   \n",
              "2           4                     27.77                   0.4799   \n",
              "3           6                     35.65                   0.3323   \n",
              "4           8                     41.10                   0.2302   \n",
              "\n",
              "  Velocidad Aproximada (m/s) Error Relativo Aproximado  \n",
              "0                          0                         0  \n",
              "1                      19.60                         1  \n",
              "2                      32.00                    0.3875  \n",
              "3                      39.85                    0.1970  \n",
              "4                      44.82                    0.1109  "
            ]
          },
          "execution_count": 13,
          "metadata": {},
          "output_type": "execute_result"
        }
      ],
      "source": [
        "\n",
        "precision = 4\n",
        "# Configurar el contexto decimal con la precisión proporcionada por el usuario\n",
        "getcontext().prec = precision\n",
        "\n",
        "# Constantes controladas por la precision asignada\n",
        "g = Decimal('9.8 ') # m/s^2\n",
        "m = Decimal('68.1')  # kg\n",
        "c = Decimal('12.5 ') # kg/s^2\n",
        "tiempo_maximo = 49  # segundos\n",
        "tamaño_paso = 2  # segundos\n",
        "\n",
        "ε_s = 0.0005  #definimos la tolerancia para el paro\n",
        "Vv= (m*g)/c #valor verdadero cuando t->infinito\n",
        "\n",
        "# Función para calcular la velocidad analítica en un tiempo dado\n",
        "def velocidad_analitica(t):\n",
        "    return (g * m / c) * (1 - np.exp(-c / m * t))\n",
        "\n",
        "# Función para calcular la velocidad aproximada en un tiempo dado\n",
        "def velocidad_aproximada(ti, vi):\n",
        "    return vi + (g - (c / m) * vi) * ti\n",
        "\n",
        "# Rango de tiempo de 0 a 49 segundos con paso de 2 segundos\n",
        "tiempos = np.arange(0, tiempo_maximo + tamaño_paso, tamaño_paso)\n",
        "\n",
        "# Cálculo de v(t)\n",
        "velocidades_analiticas = velocidad_analitica(tiempos)\n",
        "#calculo del error relativo  verdadero\n",
        "error_rel_verd =[0]\n",
        "for i in range(1,len(tiempos)):\n",
        "    ε_t= abs((Vv-velocidades_analiticas[i])/Vv)\n",
        "    error_rel_verd.append(ε_t)\n",
        "\n",
        "#calculo de v(t+1)\n",
        "velocidades_aproximadas = [0]  # Inicializamos la velocidad inicial en 0 m/s\n",
        "error_rel_aprox = [0]              # inicializamos array para guardar el error_aprox\n",
        "\n",
        "for i in range(1, len(tiempos)):\n",
        "    # se asignan los vvalores de vi y ti iterativamente\n",
        "    vi = Decimal(velocidades_aproximadas[i - 1])      # se pone i - 1 por que el bucle for de python inicia en 1\n",
        "    ti = Decimal(tamaño_paso)\n",
        "    # se calcula la velocidad aproximada\n",
        "    v_aprox = velocidad_aproximada(ti, vi)\n",
        "    # se agrega la velocidad aproximada al array\n",
        "    velocidades_aproximadas.append(Decimal(v_aprox))\n",
        "    # se calcula el error relativo  aproximado\n",
        "    ε_a = Decimal((v_aprox - vi) / v_aprox)\n",
        "    # se guarda el error en su array\n",
        "    error_rel_aprox.append(ε_a)\n",
        "    # se valida si el error relativo verdadero aproximado es menor a la tolerancia y si lo es, se sale del programa.\n",
        "    if abs(ε_a) < ε_s:\n",
        "        print (\" El calculo se detuvo por que ε_a > ε_s\")\n",
        "        print(f'El programa se detuvo despues de {i} operaciones')\n",
        "        break\n",
        "\n",
        "\n",
        "# Crear un DataFrame con los valores\n",
        "data = {\n",
        "    'Tiempo (s)': tiempos[:len(velocidades_aproximadas)],\n",
        "    'Velocidad Analítica (m/s)':  velocidades_analiticas[:len(velocidades_aproximadas)],\n",
        "    'Error Relativo Verdadero': error_rel_verd[:len(velocidades_aproximadas)],\n",
        "    'Velocidad Aproximada (m/s)': velocidades_aproximadas,\n",
        "    'Error Relativo Aproximado': error_rel_aprox\n",
        "}\n",
        "df = pd.DataFrame(data)\n",
        "df.head()\n"
      ]
    },
    {
      "cell_type": "code",
      "execution_count": 14,
      "metadata": {
        "colab": {
          "base_uri": "https://localhost:8080/",
          "height": 564
        },
        "id": "FybVRit1J7QY",
        "outputId": "3aebcd82-e3c0-4364-ac08-26e4cf9e89f3"
      },
      "outputs": [
        {
          "data": {
            "image/png": "[encoded data removed]",
            "text/plain": [
              "<Figure size 1000x600 with 1 Axes>"
            ]
          },
          "metadata": {},
          "output_type": "display_data"
        }
      ],
      "source": [
        "# Graficar errores relativos verdaderos y aproximados\n",
        "plt.figure(figsize=(10, 6))\n",
        "plt.plot(tiempos[:len(velocidades_aproximadas)], velocidades_analiticas[:len(velocidades_aproximadas)], label='Velocidades analiticas')\n",
        "plt.plot(tiempos[:len(velocidades_aproximadas)], velocidades_aproximadas, label='Velocidades aproximadas')\n",
        "plt.xlabel('Tiempo (s)')\n",
        "plt.ylabel('Velocidades')\n",
        "plt.title('velocidades detenidas cuando ε_a > ε_s')\n",
        "plt.legend()\n",
        "plt.grid(True)\n",
        "#plt.savefig('errores.png')  # Guardar la gráfica como un archivo de imagen\n",
        "plt.show()"
      ]
    }
  ],
  "metadata": {
    "colab": {
      "provenance": []
    },
    "kernelspec": {
      "display_name": "Python 3",
      "language": "python",
      "name": "python3"
    },
    "language_info": {
      "codemirror_mode": {
        "name": "ipython",
        "version": 3
      },
      "file_extension": ".py",
      "mimetype": "text/x-python",
      "name": "python",
      "nbconvert_exporter": "python",
      "pygments_lexer": "ipython3",
      "version": "3.13.3"
    },
    "orig_nbformat": 4
  },
  "nbformat": 4,
  "nbformat_minor": 0
}
