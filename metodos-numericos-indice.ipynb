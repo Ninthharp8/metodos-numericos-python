{
 "cells": [
  {
   "cell_type": "markdown",
   "id": "6bd2948f",
   "metadata": {},
   "source": [
    "#  Métodos Numéricos en Python\n",
    "\n",
    "Este repositorio contiene implementaciones en Python de distintos métodos numéricos, organizados por tema. Cada sección incluye notebooks con teoría y ejercicios, y algunos se apoyan en módulos auxiliares (`.py`) para mantener el código limpio.\n",
    "\n",
    "---"
   ]
  },
  {
   "cell_type": "markdown",
   "id": "1b571d09",
   "metadata": {},
   "source": [
    "##  1. Método de Euler y Horner\n",
    "\n",
    "-  [Método De Horner](./metodo-euler-horner/Metodo_De_Horner.ipynb): Explicación y ejemplos del método de Horner para evaluar polinomios y cambio de bases.\n",
    "-  [Método de Euler ](./metodo-euler-horner/Metodo_Euler_Problema_Paracaidas.ipynb): Aplicación del método de Euler para resolver una EDO en el problema de caída de un paracaidista.\n"
   ]
  },
  {
   "cell_type": "markdown",
   "id": "de8ed0ef",
   "metadata": {},
   "source": [
    "##  2. Métodos Iterativos para Rresolver sistemas de ecuaciones lineales\n",
    "\n",
    "-  [Metodos iterativos para resolver sistemas ecuaciones](./sistemas-ecuaciones-lineales/Metodos_Iterativos_Sistemas_Ecuaciones.ipynb): Teoría y ejercicios resueltos utilizando los distintos métodos.\n",
    "-  Métodos  implementados en python:\n",
    "\n",
    "    -  [ Gauss.py ](./sistemas-ecuaciones-lineales/metodos_iterativos/Gauss.py)\n",
    "    -  [ Gauss-Jordan.py](./sistemas-ecuaciones-lineales/metodos_iterativos/Gauss_Jordan.py)\n",
    "    -  [  Gauss-Seidel.py](./sistemas-ecuaciones-lineales/metodos_iterativos/Gauss_Seidel.py)\n",
    "    -  [ Jacobi.py](./sistemas-ecuaciones-lineales/metodos_iterativos/Jacobi.py)\n"
   ]
  },
  {
   "cell_type": "markdown",
   "id": "69ac5e1b",
   "metadata": {},
   "source": [
    "##  3. Métodos para Ecuaciones No Lineales\n",
    "\n",
    "-  [Metodos para resolver ecuaciones no lineales](./ecuaciones-no-lineales/Metodos_Ecuaciones_No_Lineales.ipynb): Incluye métodos como bisección, Newton-Raphson, punto fijo, etc.\n",
    "\n",
    "-  Módulo auxiliar :\n",
    "    -  [Métodos no lineales.py](./ecuaciones-no-lineales/Metodos/metodos_no_lineales.py)\n"
   ]
  },
  {
   "cell_type": "markdown",
   "id": "2bc8f0ad",
   "metadata": {},
   "source": [
    "##  4. Métodos para Optimización e Interpolación\n",
    "\n",
    "-  [Método de Splines cúbicos y Lagrange](./optimizacion-e-interpolacion/Optimizacion_e_Interpolacion.ipynb): Aplicación de los métodos de splines cúbicos y lagrange para resolver problemas de interpolación.\n",
    "-  Códigos:\n",
    "    -  [Interpolacion de Lagrange.py](./optimizacion-e-interpolacion/Interpolacion_De_Lagrange.py)\n",
    "    -  [Interpolacion Splines.py](./optimizacion-e-interpolacion/Interpolacion_Splines.py)\n"
   ]
  },
  {
   "cell_type": "markdown",
   "id": "0fa79b74",
   "metadata": {},
   "source": [
    "## 5. Requisitos de cada módulo\n",
    "\n",
    "Se incluye un archivo `requirements.txt` que especifica las bibliotecas necesarias. Para instalar dependencias de todos los temas:\n",
    "\n",
    "```bash\n",
    "pip install -r requirements.txt\n",
    "```\n"
   ]
  },
  {
   "cell_type": "markdown",
   "id": "f5812686",
   "metadata": {},
   "source": [
    "\n",
    "\n",
    "## 6. Referencias para Profundizar\n",
    "\n",
    "- Randall D. Knight *Physics for scientists and Engineers*. \n",
    "- Dennis G. Zill *Differential Equations with Boundary-Value Problem*\n",
    "- Dennis G. Zill *A First Course in Differential Equations with Modeling Applications*.\n",
    "- Steven C. Chapra, Raymond P. Canale *Métodos númericos para ingenieros*.\n"
   ]
  }
 ],
 "metadata": {
  "language_info": {
   "name": "python"
  }
 },
 "nbformat": 4,
 "nbformat_minor": 5
}
