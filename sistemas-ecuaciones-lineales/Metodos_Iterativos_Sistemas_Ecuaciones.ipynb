{
 "cells": [
  {
   "cell_type": "markdown",
   "id": "d7515838",
   "metadata": {},
   "source": [
    "#  Métodos Iterativos para Sistemas de Ecuaciones Lineales\n",
    "\n",
    "En esta sección se presentan varios métodos para resolver sistemas de ecuaciones lineales, útiles cuando se trata de sistemas grandes o dispersos. Incluimos métodos directos y métodos iterativos.\n",
    "\n",
    "---"
   ]
  },
  {
   "cell_type": "markdown",
   "id": "5bc643ad",
   "metadata": {},
   "source": [
    "##  Método de Eliminación de Gauss\n",
    "\n",
    "###  Objetivo\n",
    "Transformar el sistema original en una forma escalonada para resolverlo por sustitución regresiva.\n",
    "\n",
    "###  Fundamento Teórico\n",
    "\n",
    "El método de Gauss aplica operaciones fila para eliminar variables de forma secuencial y triangular el sistema. Es un **método directo**.\n",
    "\n",
    "Se basa en transformar el sistema:\n",
    "\n",
    "\n",
    "$Ax = b$\n",
    "\n",
    "\n",
    "en un sistema equivalente donde la matriz  $A$  es triangular superior:\n",
    "\n",
    "$Ux = c$\n",
    "\n",
    "\n",
    "y luego se resuelve por sustitución hacia atrás.\n",
    "\n",
    "###  Observaciones\n",
    "- No requiere iteraciones.\n",
    "- Es sensible a problemas de pivoteo (se recomienda pivoteo parcial).\n"
   ]
  },
  {
   "cell_type": "markdown",
   "id": "a09300cb",
   "metadata": {},
   "source": [
    "## Implementación en python"
   ]
  },
  {
   "cell_type": "code",
   "execution_count": null,
   "id": "4b3109b6",
   "metadata": {},
   "outputs": [],
   "source": [
    "import MetodosIterativos.Gauss as gauss \n",
    "gauss.solve_window()"
   ]
  },
  {
   "cell_type": "markdown",
   "id": "f6aff474",
   "metadata": {},
   "source": [
    "##  Método de Gauss-Jordan\n",
    "\n",
    "###  Objetivo\n",
    "Transformar el sistema en una forma reducida donde la matriz de coeficientes se convierte en la identidad.\n",
    "\n",
    "###  Fundamento Teórico\n",
    "\n",
    "Extiende el método de Gauss eliminando hacia arriba y hacia abajo para obtener directamente la solución:\n",
    "\n",
    "\n",
    "$Ix = d$\n",
    "\n",
    "\n",
    "Usa operaciones fila para convertir toda la matriz aumentada  $[A | b] $ ben  $[I | x]$ .\n",
    "\n",
    "###  Observaciones\n",
    "- Método directo.\n",
    "- Consume más operaciones que Gauss simple.\n",
    "- Muy útil para encontrar la inversa de una matriz.\n"
   ]
  },
  {
   "cell_type": "markdown",
   "id": "d6e09e29",
   "metadata": {},
   "source": [
    "## Implementación en python"
   ]
  },
  {
   "cell_type": "code",
   "execution_count": null,
   "id": "39246a7c",
   "metadata": {},
   "outputs": [],
   "source": [
    "import MetodosIterativos.GaussJordan as gaussJordan\n",
    "gaussJordan.GaussJordanSolver()"
   ]
  },
  {
   "cell_type": "markdown",
   "id": "55028741",
   "metadata": {},
   "source": [
    "##  Método de Jacobi\n",
    "\n",
    "###  Objetivo\n",
    "Resolver iterativamente un sistema de ecuaciones lineales separando la solución de cada incógnita en función de las demás.\n",
    "\n",
    "###  Fundamento Teórico\n",
    "\n",
    "Dado un sistema:\n",
    "\n",
    "\n",
    "$Ax = b$\n",
    "\n",
    "\n",
    "se reescribe como:\n",
    "\n",
    "\n",
    "$$\n",
    "x_i^{(k+1)} = \\frac{1}{a_{ii}} \\left( b_i - \\sum_{j \\ne i} a_{ij}x_j^{(k)} \\right)\n",
    "$$\n",
    "\n",
    "Se parte de una estimación inicial  $x^{(0)}$ y se repite hasta converger.\n",
    "\n",
    "###  Observaciones\n",
    "- Simple de implementar.\n",
    "- Puede ser lento o no converger si la matriz no cumple ciertas condiciones (diagonal dominante o simétrica definida positiva).\n"
   ]
  },
  {
   "cell_type": "markdown",
   "id": "d77d09d7",
   "metadata": {},
   "source": [
    "## Implementación en python"
   ]
  },
  {
   "cell_type": "code",
   "execution_count": null,
   "id": "3428d854",
   "metadata": {},
   "outputs": [],
   "source": [
    "import MetodosIterativos.Jacobi as jacobi\n",
    "jacobi.JacobiSolver()"
   ]
  },
  {
   "cell_type": "markdown",
   "id": "b935b512",
   "metadata": {},
   "source": [
    "##  Método de Gauss-Seidel\n",
    "\n",
    "###  Objetivo\n",
    "Mejorar la convergencia del método de Jacobi usando los valores más recientes tan pronto como estén disponibles.\n",
    "\n",
    "###  Fundamento Teórico\n",
    "\n",
    "Similar a Jacobi, pero actualiza inmediatamente cada componente:\n",
    "\n",
    "\n",
    "$$\n",
    "x_i^{(k+1)} = \\frac{1}{a_{ii}} \\left( b_i - \\sum_{j < i} a_{ij}x_j^{(k+1)} - \\sum_{j > i} a_{ij}x_j^{(k)} \\right)\n",
    "$$\n",
    "\n",
    "###  Observaciones\n",
    "- Más eficiente que Jacobi en la mayoría de los casos.\n",
    "- También requiere condiciones de convergencia.\n",
    "- Es un caso particular del método de relajación (SOR si se agrega un factor de relajación \\( \\omega \\)).\n"
   ]
  },
  {
   "cell_type": "markdown",
   "id": "1d4e7e58",
   "metadata": {},
   "source": [
    "## Implementación en python"
   ]
  },
  {
   "cell_type": "code",
   "execution_count": null,
   "id": "75f3e9ce",
   "metadata": {},
   "outputs": [],
   "source": [
    "import MetodosIterativos.GaussSeidel as gaussSeidel\n",
    "gaussSeidel.GaussSeidelSolver()"
   ]
  }
 ],
 "metadata": {
  "kernelspec": {
   "display_name": "Python 3",
   "language": "python",
   "name": "python3"
  },
  "language_info": {
   "codemirror_mode": {
    "name": "ipython",
    "version": 3
   },
   "file_extension": ".py",
   "mimetype": "text/x-python",
   "name": "python",
   "nbconvert_exporter": "python",
   "pygments_lexer": "ipython3",
   "version": "3.13.3"
  }
 },
 "nbformat": 4,
 "nbformat_minor": 5
}
